{
 "cells": [
  {
   "cell_type": "code",
   "execution_count": 1,
   "id": "3a8f1f94",
   "metadata": {},
   "outputs": [
    {
     "name": "stdout",
     "output_type": "stream",
     "text": [
      "(1978 Automobile Data)\n"
     ]
    }
   ],
   "source": [
    "sysuse auto, clear"
   ]
  },
  {
   "cell_type": "code",
   "execution_count": 2,
   "id": "169c298c",
   "metadata": {},
   "outputs": [
    {
     "name": "stdout",
     "output_type": "stream",
     "text": [
      "\n",
      "    Variable |        Obs        Mean    Std. Dev.       Min        Max\n",
      "-------------+---------------------------------------------------------\n",
      "        make |          0\n",
      "       price |         74    6165.257    2949.496       3291      15906\n",
      "         mpg |         74     21.2973    5.785503         12         41\n",
      "       rep78 |         69    3.405797    .9899323          1          5\n",
      "    headroom |         74    2.993243    .8459948        1.5          5\n",
      "-------------+---------------------------------------------------------\n",
      "       trunk |         74    13.75676    4.277404          5         23\n",
      "      weight |         74    3019.459    777.1936       1760       4840\n",
      "      length |         74    187.9324    22.26634        142        233\n",
      "        turn |         74    39.64865    4.399354         31         51\n",
      "displacement |         74    197.2973    91.83722         79        425\n",
      "-------------+---------------------------------------------------------\n",
      "  gear_ratio |         74    3.014865    .4562871       2.19       3.89\n",
      "     foreign |         74    .2972973    .4601885          0          1\n"
     ]
    }
   ],
   "source": [
    "summarize"
   ]
  },
  {
   "cell_type": "code",
   "execution_count": 3,
   "id": "44f3fd90",
   "metadata": {},
   "outputs": [
    {
     "name": "stdout",
     "output_type": "stream",
     "text": [
      "\n",
      "      Source |       SS           df       MS      Number of obs   =        74\n",
      "-------------+----------------------------------   F(1, 72)        =     20.26\n",
      "       Model |   139449474         1   139449474   Prob > F        =    0.0000\n",
      "    Residual |   495615923        72  6883554.48   R-squared       =    0.2196\n",
      "-------------+----------------------------------   Adj R-squared   =    0.2087\n",
      "       Total |   635065396        73  8699525.97   Root MSE        =    2623.7\n",
      "\n",
      "------------------------------------------------------------------------------\n",
      "       price |      Coef.   Std. Err.      t    P>|t|     [95% Conf. Interval]\n",
      "-------------+----------------------------------------------------------------\n",
      "         mpg |  -238.8943   53.07669    -4.50   0.000    -344.7008   -133.0879\n",
      "       _cons |   11253.06   1170.813     9.61   0.000     8919.088    13587.03\n",
      "------------------------------------------------------------------------------\n"
     ]
    }
   ],
   "source": [
    "regress price mpg"
   ]
  },
  {
   "cell_type": "code",
   "execution_count": 4,
   "id": "aeabbd7c",
   "metadata": {},
   "outputs": [
    {
     "name": "stdout",
     "output_type": "stream",
     "text": [
      "(bin=30, start=3291, width=420.5)\n"
     ]
    },
    {
     "data": {
      "application/pdf": "[encoded data removed]",
      "image/svg+xml": [
       "<?xml version=\"1.0\" encoding=\"UTF-8\" standalone=\"no\"?>\n",
       "<!-- This is a Stata 15.1 generated SVG file (http://www.stata.com) -->\n",
       "\n",
       "<svg version=\"1.1\" width=\"600px\" height=\"436px\" viewBox=\"0 0 3960 2880\" xmlns=\"http://www.w3.org/2000/svg\" xmlns:xlink=\"http://www.w3.org/1999/xlink\">\n",
       "\t<desc>Stata Graph - Graph</desc>\n",
       "\t<rect x=\"0\" y=\"0\" width=\"3960\" height=\"2880\" style=\"fill:#EAF2F3;stroke:none\"/>\n",
       "\t<rect x=\"0.00\" y=\"0.00\" width=\"3959.88\" height=\"2880.00\" style=\"fill:#EAF2F3\"/>\n",
       "\t<rect x=\"2.88\" y=\"2.88\" width=\"3954.12\" height=\"2874.24\" style=\"fill:none;stroke:#EAF2F3;stroke-width:5.76\"/>\n",
       "\t<rect x=\"390.80\" y=\"100.86\" width=\"3468.22\" height=\"2388.33\" style=\"fill:#FFFFFF\"/>\n",
       "\t<rect x=\"393.68\" y=\"103.74\" width=\"3462.46\" height=\"2382.57\" style=\"fill:none;stroke:#FFFFFF;stroke-width:5.76\"/>\n",
       "\t<line x1=\"390.80\" y1=\"2489.19\" x2=\"3859.02\" y2=\"2489.19\" style=\"stroke:#EAF2F3;stroke-width:8.64\"/>\n",
       "\t<line x1=\"390.80\" y1=\"1932.66\" x2=\"3859.02\" y2=\"1932.66\" style=\"stroke:#EAF2F3;stroke-width:8.64\"/>\n",
       "\t<line x1=\"390.80\" y1=\"1376.14\" x2=\"3859.02\" y2=\"1376.14\" style=\"stroke:#EAF2F3;stroke-width:8.64\"/>\n",
       "\t<line x1=\"390.80\" y1=\"819.62\" x2=\"3859.02\" y2=\"819.62\" style=\"stroke:#EAF2F3;stroke-width:8.64\"/>\n",
       "\t<line x1=\"390.80\" y1=\"263.10\" x2=\"3859.02\" y2=\"263.10\" style=\"stroke:#EAF2F3;stroke-width:8.64\"/>\n",
       "\t<rect x=\"1145.55\" y=\"1952.71\" width=\"88.36\" height=\"536.47\" style=\"fill:#CAC27E\"/>\n",
       "\t<rect x=\"1149.87\" y=\"1957.03\" width=\"79.72\" height=\"527.83\" style=\"fill:none;stroke:#D7D29E;stroke-width:8.64\"/>\n",
       "\t<rect x=\"1233.91\" y=\"343.05\" width=\"88.23\" height=\"2146.14\" style=\"fill:#CAC27E\"/>\n",
       "\t<rect x=\"1238.23\" y=\"347.37\" width=\"79.59\" height=\"2137.50\" style=\"fill:none;stroke:#D7D29E;stroke-width:8.64\"/>\n",
       "\t<rect x=\"1322.14\" y=\"164.22\" width=\"88.36\" height=\"2324.96\" style=\"fill:#CAC27E\"/>\n",
       "\t<rect x=\"1326.46\" y=\"168.54\" width=\"79.72\" height=\"2316.32\" style=\"fill:none;stroke:#D7D29E;stroke-width:8.64\"/>\n",
       "\t<rect x=\"1410.50\" y=\"879.52\" width=\"88.36\" height=\"1609.67\" style=\"fill:#CAC27E\"/>\n",
       "\t<rect x=\"1414.82\" y=\"883.84\" width=\"79.72\" height=\"1601.03\" style=\"fill:none;stroke:#D7D29E;stroke-width:8.64\"/>\n",
       "\t<rect x=\"1498.86\" y=\"1416.12\" width=\"88.36\" height=\"1073.07\" style=\"fill:#CAC27E\"/>\n",
       "\t<rect x=\"1503.18\" y=\"1420.44\" width=\"79.72\" height=\"1064.43\" style=\"fill:none;stroke:#D7D29E;stroke-width:8.64\"/>\n",
       "\t<rect x=\"1587.22\" y=\"1416.12\" width=\"88.36\" height=\"1073.07\" style=\"fill:#CAC27E\"/>\n",
       "\t<rect x=\"1591.54\" y=\"1420.44\" width=\"79.72\" height=\"1064.43\" style=\"fill:none;stroke:#D7D29E;stroke-width:8.64\"/>\n",
       "\t<rect x=\"1675.58\" y=\"1773.76\" width=\"88.36\" height=\"715.42\" style=\"fill:#CAC27E\"/>\n",
       "\t<rect x=\"1679.89\" y=\"1778.08\" width=\"79.72\" height=\"706.78\" style=\"fill:none;stroke:#D7D29E;stroke-width:8.64\"/>\n",
       "\t<rect x=\"1763.93\" y=\"1773.76\" width=\"88.36\" height=\"715.42\" style=\"fill:#CAC27E\"/>\n",
       "\t<rect x=\"1768.25\" y=\"1778.08\" width=\"79.72\" height=\"706.78\" style=\"fill:none;stroke:#D7D29E;stroke-width:8.64\"/>\n",
       "\t<rect x=\"1852.29\" y=\"2310.36\" width=\"88.23\" height=\"178.82\" style=\"fill:#CAC27E\"/>\n",
       "\t<rect x=\"1856.61\" y=\"2314.68\" width=\"79.59\" height=\"170.18\" style=\"fill:none;stroke:#D7D29E;stroke-width:8.64\"/>\n",
       "\t<rect x=\"1940.52\" y=\"2310.36\" width=\"88.36\" height=\"178.82\" style=\"fill:#CAC27E\"/>\n",
       "\t<rect x=\"1944.84\" y=\"2314.68\" width=\"79.72\" height=\"170.18\" style=\"fill:none;stroke:#D7D29E;stroke-width:8.64\"/>\n",
       "\t<rect x=\"2028.88\" y=\"2310.36\" width=\"88.36\" height=\"178.82\" style=\"fill:#CAC27E\"/>\n",
       "\t<rect x=\"2033.20\" y=\"2314.68\" width=\"79.72\" height=\"170.18\" style=\"fill:none;stroke:#D7D29E;stroke-width:8.64\"/>\n",
       "\t<rect x=\"2117.24\" y=\"2310.36\" width=\"88.36\" height=\"178.82\" style=\"fill:#CAC27E\"/>\n",
       "\t<rect x=\"2121.56\" y=\"2314.68\" width=\"79.72\" height=\"170.18\" style=\"fill:none;stroke:#D7D29E;stroke-width:8.64\"/>\n",
       "\t<rect x=\"2293.95\" y=\"2310.36\" width=\"88.36\" height=\"178.82\" style=\"fill:#CAC27E\"/>\n",
       "\t<rect x=\"2298.27\" y=\"2314.68\" width=\"79.72\" height=\"170.18\" style=\"fill:none;stroke:#D7D29E;stroke-width:8.64\"/>\n",
       "\t<rect x=\"2470.67\" y=\"2131.54\" width=\"88.23\" height=\"357.65\" style=\"fill:#CAC27E\"/>\n",
       "\t<rect x=\"2474.99\" y=\"2135.86\" width=\"79.59\" height=\"349.01\" style=\"fill:none;stroke:#D7D29E;stroke-width:8.64\"/>\n",
       "\t<rect x=\"2558.90\" y=\"2131.54\" width=\"88.36\" height=\"357.65\" style=\"fill:#CAC27E\"/>\n",
       "\t<rect x=\"2563.22\" y=\"2135.86\" width=\"79.72\" height=\"349.01\" style=\"fill:none;stroke:#D7D29E;stroke-width:8.64\"/>\n",
       "\t<rect x=\"2823.97\" y=\"2131.54\" width=\"88.36\" height=\"357.65\" style=\"fill:#CAC27E\"/>\n",
       "\t<rect x=\"2828.29\" y=\"2135.86\" width=\"79.72\" height=\"349.01\" style=\"fill:none;stroke:#D7D29E;stroke-width:8.64\"/>\n",
       "\t<rect x=\"2912.33\" y=\"2310.36\" width=\"88.36\" height=\"178.82\" style=\"fill:#CAC27E\"/>\n",
       "\t<rect x=\"2916.65\" y=\"2314.68\" width=\"79.72\" height=\"170.18\" style=\"fill:none;stroke:#D7D29E;stroke-width:8.64\"/>\n",
       "\t<rect x=\"3177.28\" y=\"2310.36\" width=\"88.36\" height=\"178.82\" style=\"fill:#CAC27E\"/>\n",
       "\t<rect x=\"3181.60\" y=\"2314.68\" width=\"79.72\" height=\"170.18\" style=\"fill:none;stroke:#D7D29E;stroke-width:8.64\"/>\n",
       "\t<rect x=\"3265.64\" y=\"2131.54\" width=\"88.36\" height=\"357.65\" style=\"fill:#CAC27E\"/>\n",
       "\t<rect x=\"3269.96\" y=\"2135.86\" width=\"79.72\" height=\"349.01\" style=\"fill:none;stroke:#D7D29E;stroke-width:8.64\"/>\n",
       "\t<rect x=\"3442.35\" y=\"2310.36\" width=\"88.36\" height=\"178.82\" style=\"fill:#CAC27E\"/>\n",
       "\t<rect x=\"3446.67\" y=\"2314.68\" width=\"79.72\" height=\"170.18\" style=\"fill:none;stroke:#D7D29E;stroke-width:8.64\"/>\n",
       "\t<rect x=\"3707.43\" y=\"2310.36\" width=\"88.23\" height=\"178.82\" style=\"fill:#CAC27E\"/>\n",
       "\t<rect x=\"3711.75\" y=\"2314.68\" width=\"79.59\" height=\"170.18\" style=\"fill:none;stroke:#D7D29E;stroke-width:8.64\"/>\n",
       "\t<line x1=\"390.80\" y1=\"2489.19\" x2=\"390.80\" y2=\"100.86\" style=\"stroke:#000000;stroke-width:5.76\"/>\n",
       "\t<line x1=\"390.80\" y1=\"2489.19\" x2=\"350.83\" y2=\"2489.19\" style=\"stroke:#000000;stroke-width:5.76\"/>\n",
       "\t<text x=\"300.72\" y=\"2489.19\" style=\"font-family:'Helvetica';font-size:99.99px;fill:#000000\" transform=\"rotate(-90 300.72,2489.19)\" text-anchor=\"middle\">0</text>\n",
       "\t<line x1=\"390.80\" y1=\"1932.66\" x2=\"350.83\" y2=\"1932.66\" style=\"stroke:#000000;stroke-width:5.76\"/>\n",
       "\t<text x=\"300.72\" y=\"1932.66\" style=\"font-family:'Helvetica';font-size:99.99px;fill:#000000\" transform=\"rotate(-90 300.72,1932.66)\" text-anchor=\"middle\">1.0e-04</text>\n",
       "\t<line x1=\"390.80\" y1=\"1376.14\" x2=\"350.83\" y2=\"1376.14\" style=\"stroke:#000000;stroke-width:5.76\"/>\n",
       "\t<text x=\"300.72\" y=\"1376.14\" style=\"font-family:'Helvetica';font-size:99.99px;fill:#000000\" transform=\"rotate(-90 300.72,1376.14)\" text-anchor=\"middle\">2.0e-04</text>\n",
       "\t<line x1=\"390.80\" y1=\"819.62\" x2=\"350.83\" y2=\"819.62\" style=\"stroke:#000000;stroke-width:5.76\"/>\n",
       "\t<text x=\"300.72\" y=\"819.62\" style=\"font-family:'Helvetica';font-size:99.99px;fill:#000000\" transform=\"rotate(-90 300.72,819.62)\" text-anchor=\"middle\">3.0e-04</text>\n",
       "\t<line x1=\"390.80\" y1=\"263.10\" x2=\"350.83\" y2=\"263.10\" style=\"stroke:#000000;stroke-width:5.76\"/>\n",
       "\t<text x=\"300.72\" y=\"263.10\" style=\"font-family:'Helvetica';font-size:99.99px;fill:#000000\" transform=\"rotate(-90 300.72,263.10)\" text-anchor=\"middle\">4.0e-04</text>\n",
       "\t<text x=\"190.71\" y=\"1294.96\" style=\"font-family:'Helvetica';font-size:99.99px;fill:#000000\" transform=\"rotate(-90 190.71,1294.96)\" text-anchor=\"middle\">Density</text>\n",
       "\t<line x1=\"390.80\" y1=\"2489.19\" x2=\"3859.02\" y2=\"2489.19\" style=\"stroke:#000000;stroke-width:5.76\"/>\n",
       "\t<line x1=\"454.16\" y1=\"2489.19\" x2=\"454.16\" y2=\"2529.16\" style=\"stroke:#000000;stroke-width:5.76\"/>\n",
       "\t<text x=\"454.16\" y=\"2619.14\" style=\"font-family:'Helvetica';font-size:99.99px;fill:#000000\" text-anchor=\"middle\">0</text>\n",
       "\t<line x1=\"1504.55\" y1=\"2489.19\" x2=\"1504.55\" y2=\"2529.16\" style=\"stroke:#000000;stroke-width:5.76\"/>\n",
       "\t<text x=\"1504.55\" y=\"2619.14\" style=\"font-family:'Helvetica';font-size:99.99px;fill:#000000\" text-anchor=\"middle\">5,000</text>\n",
       "\t<line x1=\"2554.94\" y1=\"2489.19\" x2=\"2554.94\" y2=\"2529.16\" style=\"stroke:#000000;stroke-width:5.76\"/>\n",
       "\t<text x=\"2554.94\" y=\"2619.14\" style=\"font-family:'Helvetica';font-size:99.99px;fill:#000000\" text-anchor=\"middle\">10,000</text>\n",
       "\t<line x1=\"3605.33\" y1=\"2489.19\" x2=\"3605.33\" y2=\"2529.16\" style=\"stroke:#000000;stroke-width:5.76\"/>\n",
       "\t<text x=\"3605.33\" y=\"2619.14\" style=\"font-family:'Helvetica';font-size:99.99px;fill:#000000\" text-anchor=\"middle\">15,000</text>\n",
       "\t<text x=\"2124.91\" y=\"2729.16\" style=\"font-family:'Helvetica';font-size:99.99px;fill:#000000\" text-anchor=\"middle\">Price</text>\n",
       "</svg>\n"
      ],
      "text/html": [
       "                <iframe frameborder=\"0\" scrolling=\"no\" height=\"436\" width=\"600\"                srcdoc=\"<html><body>&lt;?xml version=&quot;1.0&quot; encoding=&quot;UTF-8&quot; standalone=&quot;no&quot;?&gt;\n",
       "&lt;!-- This is a Stata 15.1 generated SVG file (http://www.stata.com) --&gt;\n",
       "\n",
       "&lt;svg version=&quot;1.1&quot; width=&quot;600px&quot; height=&quot;436px&quot; viewBox=&quot;0 0 3960 2880&quot; xmlns=&quot;http://www.w3.org/2000/svg&quot; xmlns:xlink=&quot;http://www.w3.org/1999/xlink&quot;&gt;\n",
       "\t&lt;desc&gt;Stata Graph - Graph&lt;/desc&gt;\n",
       "\t&lt;rect x=&quot;0&quot; y=&quot;0&quot; width=&quot;3960&quot; height=&quot;2880&quot; style=&quot;fill:#EAF2F3;stroke:none&quot;/&gt;\n",
       "\t&lt;rect x=&quot;0.00&quot; y=&quot;0.00&quot; width=&quot;3959.88&quot; height=&quot;2880.00&quot; style=&quot;fill:#EAF2F3&quot;/&gt;\n",
       "\t&lt;rect x=&quot;2.88&quot; y=&quot;2.88&quot; width=&quot;3954.12&quot; height=&quot;2874.24&quot; style=&quot;fill:none;stroke:#EAF2F3;stroke-width:5.76&quot;/&gt;\n",
       "\t&lt;rect x=&quot;390.80&quot; y=&quot;100.86&quot; width=&quot;3468.22&quot; height=&quot;2388.33&quot; style=&quot;fill:#FFFFFF&quot;/&gt;\n",
       "\t&lt;rect x=&quot;393.68&quot; y=&quot;103.74&quot; width=&quot;3462.46&quot; height=&quot;2382.57&quot; style=&quot;fill:none;stroke:#FFFFFF;stroke-width:5.76&quot;/&gt;\n",
       "\t&lt;line x1=&quot;390.80&quot; y1=&quot;2489.19&quot; x2=&quot;3859.02&quot; y2=&quot;2489.19&quot; style=&quot;stroke:#EAF2F3;stroke-width:8.64&quot;/&gt;\n",
       "\t&lt;line x1=&quot;390.80&quot; y1=&quot;1932.66&quot; x2=&quot;3859.02&quot; y2=&quot;1932.66&quot; style=&quot;stroke:#EAF2F3;stroke-width:8.64&quot;/&gt;\n",
       "\t&lt;line x1=&quot;390.80&quot; y1=&quot;1376.14&quot; x2=&quot;3859.02&quot; y2=&quot;1376.14&quot; style=&quot;stroke:#EAF2F3;stroke-width:8.64&quot;/&gt;\n",
       "\t&lt;line x1=&quot;390.80&quot; y1=&quot;819.62&quot; x2=&quot;3859.02&quot; y2=&quot;819.62&quot; style=&quot;stroke:#EAF2F3;stroke-width:8.64&quot;/&gt;\n",
       "\t&lt;line x1=&quot;390.80&quot; y1=&quot;263.10&quot; x2=&quot;3859.02&quot; y2=&quot;263.10&quot; style=&quot;stroke:#EAF2F3;stroke-width:8.64&quot;/&gt;\n",
       "\t&lt;rect x=&quot;1145.55&quot; y=&quot;1952.71&quot; width=&quot;88.36&quot; height=&quot;536.47&quot; style=&quot;fill:#CAC27E&quot;/&gt;\n",
       "\t&lt;rect x=&quot;1149.87&quot; y=&quot;1957.03&quot; width=&quot;79.72&quot; height=&quot;527.83&quot; style=&quot;fill:none;stroke:#D7D29E;stroke-width:8.64&quot;/&gt;\n",
       "\t&lt;rect x=&quot;1233.91&quot; y=&quot;343.05&quot; width=&quot;88.23&quot; height=&quot;2146.14&quot; style=&quot;fill:#CAC27E&quot;/&gt;\n",
       "\t&lt;rect x=&quot;1238.23&quot; y=&quot;347.37&quot; width=&quot;79.59&quot; height=&quot;2137.50&quot; style=&quot;fill:none;stroke:#D7D29E;stroke-width:8.64&quot;/&gt;\n",
       "\t&lt;rect x=&quot;1322.14&quot; y=&quot;164.22&quot; width=&quot;88.36&quot; height=&quot;2324.96&quot; style=&quot;fill:#CAC27E&quot;/&gt;\n",
       "\t&lt;rect x=&quot;1326.46&quot; y=&quot;168.54&quot; width=&quot;79.72&quot; height=&quot;2316.32&quot; style=&quot;fill:none;stroke:#D7D29E;stroke-width:8.64&quot;/&gt;\n",
       "\t&lt;rect x=&quot;1410.50&quot; y=&quot;879.52&quot; width=&quot;88.36&quot; height=&quot;1609.67&quot; style=&quot;fill:#CAC27E&quot;/&gt;\n",
       "\t&lt;rect x=&quot;1414.82&quot; y=&quot;883.84&quot; width=&quot;79.72&quot; height=&quot;1601.03&quot; style=&quot;fill:none;stroke:#D7D29E;stroke-width:8.64&quot;/&gt;\n",
       "\t&lt;rect x=&quot;1498.86&quot; y=&quot;1416.12&quot; width=&quot;88.36&quot; height=&quot;1073.07&quot; style=&quot;fill:#CAC27E&quot;/&gt;\n",
       "\t&lt;rect x=&quot;1503.18&quot; y=&quot;1420.44&quot; width=&quot;79.72&quot; height=&quot;1064.43&quot; style=&quot;fill:none;stroke:#D7D29E;stroke-width:8.64&quot;/&gt;\n",
       "\t&lt;rect x=&quot;1587.22&quot; y=&quot;1416.12&quot; width=&quot;88.36&quot; height=&quot;1073.07&quot; style=&quot;fill:#CAC27E&quot;/&gt;\n",
       "\t&lt;rect x=&quot;1591.54&quot; y=&quot;1420.44&quot; width=&quot;79.72&quot; height=&quot;1064.43&quot; style=&quot;fill:none;stroke:#D7D29E;stroke-width:8.64&quot;/&gt;\n",
       "\t&lt;rect x=&quot;1675.58&quot; y=&quot;1773.76&quot; width=&quot;88.36&quot; height=&quot;715.42&quot; style=&quot;fill:#CAC27E&quot;/&gt;\n",
       "\t&lt;rect x=&quot;1679.89&quot; y=&quot;1778.08&quot; width=&quot;79.72&quot; height=&quot;706.78&quot; style=&quot;fill:none;stroke:#D7D29E;stroke-width:8.64&quot;/&gt;\n",
       "\t&lt;rect x=&quot;1763.93&quot; y=&quot;1773.76&quot; width=&quot;88.36&quot; height=&quot;715.42&quot; style=&quot;fill:#CAC27E&quot;/&gt;\n",
       "\t&lt;rect x=&quot;1768.25&quot; y=&quot;1778.08&quot; width=&quot;79.72&quot; height=&quot;706.78&quot; style=&quot;fill:none;stroke:#D7D29E;stroke-width:8.64&quot;/&gt;\n",
       "\t&lt;rect x=&quot;1852.29&quot; y=&quot;2310.36&quot; width=&quot;88.23&quot; height=&quot;178.82&quot; style=&quot;fill:#CAC27E&quot;/&gt;\n",
       "\t&lt;rect x=&quot;1856.61&quot; y=&quot;2314.68&quot; width=&quot;79.59&quot; height=&quot;170.18&quot; style=&quot;fill:none;stroke:#D7D29E;stroke-width:8.64&quot;/&gt;\n",
       "\t&lt;rect x=&quot;1940.52&quot; y=&quot;2310.36&quot; width=&quot;88.36&quot; height=&quot;178.82&quot; style=&quot;fill:#CAC27E&quot;/&gt;\n",
       "\t&lt;rect x=&quot;1944.84&quot; y=&quot;2314.68&quot; width=&quot;79.72&quot; height=&quot;170.18&quot; style=&quot;fill:none;stroke:#D7D29E;stroke-width:8.64&quot;/&gt;\n",
       "\t&lt;rect x=&quot;2028.88&quot; y=&quot;2310.36&quot; width=&quot;88.36&quot; height=&quot;178.82&quot; style=&quot;fill:#CAC27E&quot;/&gt;\n",
       "\t&lt;rect x=&quot;2033.20&quot; y=&quot;2314.68&quot; width=&quot;79.72&quot; height=&quot;170.18&quot; style=&quot;fill:none;stroke:#D7D29E;stroke-width:8.64&quot;/&gt;\n",
       "\t&lt;rect x=&quot;2117.24&quot; y=&quot;2310.36&quot; width=&quot;88.36&quot; height=&quot;178.82&quot; style=&quot;fill:#CAC27E&quot;/&gt;\n",
       "\t&lt;rect x=&quot;2121.56&quot; y=&quot;2314.68&quot; width=&quot;79.72&quot; height=&quot;170.18&quot; style=&quot;fill:none;stroke:#D7D29E;stroke-width:8.64&quot;/&gt;\n",
       "\t&lt;rect x=&quot;2293.95&quot; y=&quot;2310.36&quot; width=&quot;88.36&quot; height=&quot;178.82&quot; style=&quot;fill:#CAC27E&quot;/&gt;\n",
       "\t&lt;rect x=&quot;2298.27&quot; y=&quot;2314.68&quot; width=&quot;79.72&quot; height=&quot;170.18&quot; style=&quot;fill:none;stroke:#D7D29E;stroke-width:8.64&quot;/&gt;\n",
       "\t&lt;rect x=&quot;2470.67&quot; y=&quot;2131.54&quot; width=&quot;88.23&quot; height=&quot;357.65&quot; style=&quot;fill:#CAC27E&quot;/&gt;\n",
       "\t&lt;rect x=&quot;2474.99&quot; y=&quot;2135.86&quot; width=&quot;79.59&quot; height=&quot;349.01&quot; style=&quot;fill:none;stroke:#D7D29E;stroke-width:8.64&quot;/&gt;\n",
       "\t&lt;rect x=&quot;2558.90&quot; y=&quot;2131.54&quot; width=&quot;88.36&quot; height=&quot;357.65&quot; style=&quot;fill:#CAC27E&quot;/&gt;\n",
       "\t&lt;rect x=&quot;2563.22&quot; y=&quot;2135.86&quot; width=&quot;79.72&quot; height=&quot;349.01&quot; style=&quot;fill:none;stroke:#D7D29E;stroke-width:8.64&quot;/&gt;\n",
       "\t&lt;rect x=&quot;2823.97&quot; y=&quot;2131.54&quot; width=&quot;88.36&quot; height=&quot;357.65&quot; style=&quot;fill:#CAC27E&quot;/&gt;\n",
       "\t&lt;rect x=&quot;2828.29&quot; y=&quot;2135.86&quot; width=&quot;79.72&quot; height=&quot;349.01&quot; style=&quot;fill:none;stroke:#D7D29E;stroke-width:8.64&quot;/&gt;\n",
       "\t&lt;rect x=&quot;2912.33&quot; y=&quot;2310.36&quot; width=&quot;88.36&quot; height=&quot;178.82&quot; style=&quot;fill:#CAC27E&quot;/&gt;\n",
       "\t&lt;rect x=&quot;2916.65&quot; y=&quot;2314.68&quot; width=&quot;79.72&quot; height=&quot;170.18&quot; style=&quot;fill:none;stroke:#D7D29E;stroke-width:8.64&quot;/&gt;\n",
       "\t&lt;rect x=&quot;3177.28&quot; y=&quot;2310.36&quot; width=&quot;88.36&quot; height=&quot;178.82&quot; style=&quot;fill:#CAC27E&quot;/&gt;\n",
       "\t&lt;rect x=&quot;3181.60&quot; y=&quot;2314.68&quot; width=&quot;79.72&quot; height=&quot;170.18&quot; style=&quot;fill:none;stroke:#D7D29E;stroke-width:8.64&quot;/&gt;\n",
       "\t&lt;rect x=&quot;3265.64&quot; y=&quot;2131.54&quot; width=&quot;88.36&quot; height=&quot;357.65&quot; style=&quot;fill:#CAC27E&quot;/&gt;\n",
       "\t&lt;rect x=&quot;3269.96&quot; y=&quot;2135.86&quot; width=&quot;79.72&quot; height=&quot;349.01&quot; style=&quot;fill:none;stroke:#D7D29E;stroke-width:8.64&quot;/&gt;\n",
       "\t&lt;rect x=&quot;3442.35&quot; y=&quot;2310.36&quot; width=&quot;88.36&quot; height=&quot;178.82&quot; style=&quot;fill:#CAC27E&quot;/&gt;\n",
       "\t&lt;rect x=&quot;3446.67&quot; y=&quot;2314.68&quot; width=&quot;79.72&quot; height=&quot;170.18&quot; style=&quot;fill:none;stroke:#D7D29E;stroke-width:8.64&quot;/&gt;\n",
       "\t&lt;rect x=&quot;3707.43&quot; y=&quot;2310.36&quot; width=&quot;88.23&quot; height=&quot;178.82&quot; style=&quot;fill:#CAC27E&quot;/&gt;\n",
       "\t&lt;rect x=&quot;3711.75&quot; y=&quot;2314.68&quot; width=&quot;79.59&quot; height=&quot;170.18&quot; style=&quot;fill:none;stroke:#D7D29E;stroke-width:8.64&quot;/&gt;\n",
       "\t&lt;line x1=&quot;390.80&quot; y1=&quot;2489.19&quot; x2=&quot;390.80&quot; y2=&quot;100.86&quot; style=&quot;stroke:#000000;stroke-width:5.76&quot;/&gt;\n",
       "\t&lt;line x1=&quot;390.80&quot; y1=&quot;2489.19&quot; x2=&quot;350.83&quot; y2=&quot;2489.19&quot; style=&quot;stroke:#000000;stroke-width:5.76&quot;/&gt;\n",
       "\t&lt;text x=&quot;300.72&quot; y=&quot;2489.19&quot; style=&quot;font-family:&#x27;Helvetica&#x27;;font-size:99.99px;fill:#000000&quot; transform=&quot;rotate(-90 300.72,2489.19)&quot; text-anchor=&quot;middle&quot;&gt;0&lt;/text&gt;\n",
       "\t&lt;line x1=&quot;390.80&quot; y1=&quot;1932.66&quot; x2=&quot;350.83&quot; y2=&quot;1932.66&quot; style=&quot;stroke:#000000;stroke-width:5.76&quot;/&gt;\n",
       "\t&lt;text x=&quot;300.72&quot; y=&quot;1932.66&quot; style=&quot;font-family:&#x27;Helvetica&#x27;;font-size:99.99px;fill:#000000&quot; transform=&quot;rotate(-90 300.72,1932.66)&quot; text-anchor=&quot;middle&quot;&gt;1.0e-04&lt;/text&gt;\n",
       "\t&lt;line x1=&quot;390.80&quot; y1=&quot;1376.14&quot; x2=&quot;350.83&quot; y2=&quot;1376.14&quot; style=&quot;stroke:#000000;stroke-width:5.76&quot;/&gt;\n",
       "\t&lt;text x=&quot;300.72&quot; y=&quot;1376.14&quot; style=&quot;font-family:&#x27;Helvetica&#x27;;font-size:99.99px;fill:#000000&quot; transform=&quot;rotate(-90 300.72,1376.14)&quot; text-anchor=&quot;middle&quot;&gt;2.0e-04&lt;/text&gt;\n",
       "\t&lt;line x1=&quot;390.80&quot; y1=&quot;819.62&quot; x2=&quot;350.83&quot; y2=&quot;819.62&quot; style=&quot;stroke:#000000;stroke-width:5.76&quot;/&gt;\n",
       "\t&lt;text x=&quot;300.72&quot; y=&quot;819.62&quot; style=&quot;font-family:&#x27;Helvetica&#x27;;font-size:99.99px;fill:#000000&quot; transform=&quot;rotate(-90 300.72,819.62)&quot; text-anchor=&quot;middle&quot;&gt;3.0e-04&lt;/text&gt;\n",
       "\t&lt;line x1=&quot;390.80&quot; y1=&quot;263.10&quot; x2=&quot;350.83&quot; y2=&quot;263.10&quot; style=&quot;stroke:#000000;stroke-width:5.76&quot;/&gt;\n",
       "\t&lt;text x=&quot;300.72&quot; y=&quot;263.10&quot; style=&quot;font-family:&#x27;Helvetica&#x27;;font-size:99.99px;fill:#000000&quot; transform=&quot;rotate(-90 300.72,263.10)&quot; text-anchor=&quot;middle&quot;&gt;4.0e-04&lt;/text&gt;\n",
       "\t&lt;text x=&quot;190.71&quot; y=&quot;1294.96&quot; style=&quot;font-family:&#x27;Helvetica&#x27;;font-size:99.99px;fill:#000000&quot; transform=&quot;rotate(-90 190.71,1294.96)&quot; text-anchor=&quot;middle&quot;&gt;Density&lt;/text&gt;\n",
       "\t&lt;line x1=&quot;390.80&quot; y1=&quot;2489.19&quot; x2=&quot;3859.02&quot; y2=&quot;2489.19&quot; style=&quot;stroke:#000000;stroke-width:5.76&quot;/&gt;\n",
       "\t&lt;line x1=&quot;454.16&quot; y1=&quot;2489.19&quot; x2=&quot;454.16&quot; y2=&quot;2529.16&quot; style=&quot;stroke:#000000;stroke-width:5.76&quot;/&gt;\n",
       "\t&lt;text x=&quot;454.16&quot; y=&quot;2619.14&quot; style=&quot;font-family:&#x27;Helvetica&#x27;;font-size:99.99px;fill:#000000&quot; text-anchor=&quot;middle&quot;&gt;0&lt;/text&gt;\n",
       "\t&lt;line x1=&quot;1504.55&quot; y1=&quot;2489.19&quot; x2=&quot;1504.55&quot; y2=&quot;2529.16&quot; style=&quot;stroke:#000000;stroke-width:5.76&quot;/&gt;\n",
       "\t&lt;text x=&quot;1504.55&quot; y=&quot;2619.14&quot; style=&quot;font-family:&#x27;Helvetica&#x27;;font-size:99.99px;fill:#000000&quot; text-anchor=&quot;middle&quot;&gt;5,000&lt;/text&gt;\n",
       "\t&lt;line x1=&quot;2554.94&quot; y1=&quot;2489.19&quot; x2=&quot;2554.94&quot; y2=&quot;2529.16&quot; style=&quot;stroke:#000000;stroke-width:5.76&quot;/&gt;\n",
       "\t&lt;text x=&quot;2554.94&quot; y=&quot;2619.14&quot; style=&quot;font-family:&#x27;Helvetica&#x27;;font-size:99.99px;fill:#000000&quot; text-anchor=&quot;middle&quot;&gt;10,000&lt;/text&gt;\n",
       "\t&lt;line x1=&quot;3605.33&quot; y1=&quot;2489.19&quot; x2=&quot;3605.33&quot; y2=&quot;2529.16&quot; style=&quot;stroke:#000000;stroke-width:5.76&quot;/&gt;\n",
       "\t&lt;text x=&quot;3605.33&quot; y=&quot;2619.14&quot; style=&quot;font-family:&#x27;Helvetica&#x27;;font-size:99.99px;fill:#000000&quot; text-anchor=&quot;middle&quot;&gt;15,000&lt;/text&gt;\n",
       "\t&lt;text x=&quot;2124.91&quot; y=&quot;2729.16&quot; style=&quot;font-family:&#x27;Helvetica&#x27;;font-size:99.99px;fill:#000000&quot; text-anchor=&quot;middle&quot;&gt;Price&lt;/text&gt;\n",
       "&lt;/svg&gt;\n",
       "</body></html>\"></iframe>\n"
      ],
      "text/plain": [
       "This front-end cannot display the desired image type."
      ]
     },
     "metadata": {
      "image/svg+xml": {
       "height": 436,
       "width": 600
      },
      "text/html": {
       "height": 436,
       "width": 600
      }
     },
     "output_type": "display_data"
    },
    {
     "name": "stdout",
     "output_type": "stream",
     "text": [
      "\n"
     ]
    }
   ],
   "source": [
    "histogram price, bin(30)"
   ]
  }
 ],
 "metadata": {
  "kernelspec": {
   "display_name": "Stata",
   "language": "stata",
   "name": "stata"
  },
  "language_info": {
   "codemirror_mode": "stata",
   "file_extension": ".do",
   "mimetype": "text/x-stata",
   "name": "stata",
   "version": "15.1"
  }
 },
 "nbformat": 4,
 "nbformat_minor": 5
}
